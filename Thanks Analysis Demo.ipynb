{
 "metadata": {
  "name": "",
  "signature": "sha256:2c92cd01bdc55ca50f54cc18c0c2050472b1a4ac174fd8e7292df2c3fc983e8a"
 },
 "nbformat": 3,
 "nbformat_minor": 0,
 "worksheets": [
  {
   "cells": [
    {
     "cell_type": "code",
     "collapsed": false,
     "input": [
      "#import numpy as np\n",
      "#import matplotlib.pyplot as plt\n",
      "#import pylab as P\n",
      "import codecs\n",
      "from thanks import Thanks\n",
      "\n",
      "thanks = Thanks(codecs.open(\"gratitude_tweets.txt\",\"r\").read())"
     ],
     "language": "python",
     "metadata": {},
     "outputs": [],
     "prompt_number": 1
    },
    {
     "cell_type": "code",
     "collapsed": false,
     "input": [
      "thanks.pos_frequency(\"noun\")[0:50]"
     ],
     "language": "python",
     "metadata": {},
     "outputs": []
    },
    {
     "cell_type": "code",
     "collapsed": false,
     "input": [
      "thanks.pos_frequency(\"nouns\").plot()"
     ],
     "language": "python",
     "metadata": {},
     "outputs": []
    },
    {
     "cell_type": "code",
     "collapsed": false,
     "input": [
      "thanks.reset_filter()\n",
      "#print thanks.word_filter([\"appreciate\"])\n",
      "#print thanks.word_collocation_filter([[\"appreciate\",\"you\"],[\"thank\",\"you\"]])\n",
      "thanks.pos_frequency(\"modifiers\")"
     ],
     "language": "python",
     "metadata": {},
     "outputs": []
    },
    {
     "cell_type": "code",
     "collapsed": false,
     "input": [
      "thanks.reset_filter()\n",
      "print thanks.word_filter([\"brother\", \"sister\", \"mother\"])\n",
      "#for msg in thanks.thanks:\n",
      "#    print msg.line\n",
      "thanks.pos_frequency(\"nouns\")\n"
     ],
     "language": "python",
     "metadata": {},
     "outputs": []
    },
    {
     "cell_type": "code",
     "collapsed": false,
     "input": [
      "import nltk\n",
      "sent_detector = nltk.data.load('tokenizers/punkt/english.pickle')\n",
      "thanks.reset_filter()\n",
      "for thank in thanks.thanks:\n",
      "    thank.length = len(thank.line)\n",
      "    thank.num_sentences =  len(sent_detector.tokenize(thank.line))\n",
      "\n",
      "print thanks.thanks[1].length\n",
      "print thanks.thanks[1].num_sentences\n",
      "print len(thanks.thanks[1].tokens)"
     ],
     "language": "python",
     "metadata": {},
     "outputs": []
    },
    {
     "cell_type": "code",
     "collapsed": false,
     "input": [
      "import matplotlib\n",
      "\n",
      "wordcount_dist = []\n",
      "for thank in thanks:\n",
      "    #wordcount: thank.length\n",
      "    #sentence list: thank.sentences\n",
      "    #num sentences: thank.num_sentences\n",
      "    wordcount_dist.append(thank.length) #in wordcount\n",
      "    \n",
      "plt.hist(wordcount_dist)\n",
      "plt.show()"
     ],
     "language": "python",
     "metadata": {},
     "outputs": []
    },
    {
     "cell_type": "code",
     "collapsed": false,
     "input": [],
     "language": "python",
     "metadata": {},
     "outputs": []
    }
   ],
   "metadata": {}
  }
 ]
}